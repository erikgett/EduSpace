{
 "nbformat": 4,
 "nbformat_minor": 0,
 "metadata": {
  "colab": {
   "provenance": []
  },
  "kernelspec": {
   "name": "python3",
   "display_name": "Python 3"
  },
  "language_info": {
   "name": "python"
  }
 },
 "cells": [
  {
   "cell_type": "markdown",
   "source": [
    "Импорт основных библиотек"
   ],
   "metadata": {
    "collapsed": false
   }
  },
  {
   "cell_type": "code",
   "execution_count": 1,
   "metadata": {
    "colab": {
     "base_uri": "https://localhost:8080/",
     "height": 1000
    },
    "id": "EXXBCCeAXVKE",
    "outputId": "f4bfd910-7fc2-450c-dccd-223cae7b3d16"
   },
   "outputs": [],
   "source": [
    "import pandas as pd\n",
    "%matplotlib inline\n",
    "import requests\n",
    "import bs4\n",
    "import pprint"
   ]
  },
  {
   "cell_type": "markdown",
   "source": [
    "# 1. Задача: Извлечь данные по таблицам Бомбардиры, Ассистенты, Штрафники."
   ],
   "metadata": {
    "collapsed": false
   }
  },
  {
   "cell_type": "code",
   "execution_count": 2,
   "outputs": [],
   "source": [
    "url=\"https://soccer365.ru/competitions/13\"\n",
    "tables = pd.read_html(url)"
   ],
   "metadata": {
    "collapsed": false
   }
  },
  {
   "cell_type": "markdown",
   "source": [
    "# Бомбардиры:"
   ],
   "metadata": {
    "collapsed": false
   }
  },
  {
   "cell_type": "code",
   "execution_count": 3,
   "outputs": [
    {
     "data": {
      "text/plain": "            Бомбардиры  Unnamed: 1  Unnamed: 2  Unnamed: 3\n0     Владимир Сычевой          14         2.0          15\n1        Квинси Промес          14         2.0          16\n2               Малком          12         NaN          17\n3       Кристиан Нобоа          10         6.0          15\n4          Федор Чалов          10         2.0          17\n5       Эдуард Сперцян           9         3.0          16\n6        Дмитрий Полоз           8         6.0          16\n7   Николай Комличенко           8         1.0          17\n8       Мохамед Конате           7         NaN          16\n9     Тимур Сулейманов           7         1.0          16\n10        Фёдор Смолов           7         3.0          15\n11   Александр Соболев           7         NaN          16",
      "text/html": "<div>\n<style scoped>\n    .dataframe tbody tr th:only-of-type {\n        vertical-align: middle;\n    }\n\n    .dataframe tbody tr th {\n        vertical-align: top;\n    }\n\n    .dataframe thead th {\n        text-align: right;\n    }\n</style>\n<table border=\"1\" class=\"dataframe\">\n  <thead>\n    <tr style=\"text-align: right;\">\n      <th></th>\n      <th>Бомбардиры</th>\n      <th>Unnamed: 1</th>\n      <th>Unnamed: 2</th>\n      <th>Unnamed: 3</th>\n    </tr>\n  </thead>\n  <tbody>\n    <tr>\n      <th>0</th>\n      <td>Владимир Сычевой</td>\n      <td>14</td>\n      <td>2.0</td>\n      <td>15</td>\n    </tr>\n    <tr>\n      <th>1</th>\n      <td>Квинси Промес</td>\n      <td>14</td>\n      <td>2.0</td>\n      <td>16</td>\n    </tr>\n    <tr>\n      <th>2</th>\n      <td>Малком</td>\n      <td>12</td>\n      <td>NaN</td>\n      <td>17</td>\n    </tr>\n    <tr>\n      <th>3</th>\n      <td>Кристиан Нобоа</td>\n      <td>10</td>\n      <td>6.0</td>\n      <td>15</td>\n    </tr>\n    <tr>\n      <th>4</th>\n      <td>Федор Чалов</td>\n      <td>10</td>\n      <td>2.0</td>\n      <td>17</td>\n    </tr>\n    <tr>\n      <th>5</th>\n      <td>Эдуард Сперцян</td>\n      <td>9</td>\n      <td>3.0</td>\n      <td>16</td>\n    </tr>\n    <tr>\n      <th>6</th>\n      <td>Дмитрий Полоз</td>\n      <td>8</td>\n      <td>6.0</td>\n      <td>16</td>\n    </tr>\n    <tr>\n      <th>7</th>\n      <td>Николай Комличенко</td>\n      <td>8</td>\n      <td>1.0</td>\n      <td>17</td>\n    </tr>\n    <tr>\n      <th>8</th>\n      <td>Мохамед Конате</td>\n      <td>7</td>\n      <td>NaN</td>\n      <td>16</td>\n    </tr>\n    <tr>\n      <th>9</th>\n      <td>Тимур Сулейманов</td>\n      <td>7</td>\n      <td>1.0</td>\n      <td>16</td>\n    </tr>\n    <tr>\n      <th>10</th>\n      <td>Фёдор Смолов</td>\n      <td>7</td>\n      <td>3.0</td>\n      <td>15</td>\n    </tr>\n    <tr>\n      <th>11</th>\n      <td>Александр Соболев</td>\n      <td>7</td>\n      <td>NaN</td>\n      <td>16</td>\n    </tr>\n  </tbody>\n</table>\n</div>"
     },
     "metadata": {},
     "output_type": "display_data"
    }
   ],
   "source": [
    "display(tables[1])"
   ],
   "metadata": {
    "collapsed": false
   }
  },
  {
   "cell_type": "markdown",
   "source": [
    "# Ассистенты:"
   ],
   "metadata": {
    "collapsed": false
   }
  },
  {
   "cell_type": "code",
   "execution_count": 4,
   "outputs": [
    {
     "data": {
      "text/plain": "            Ассистенты  Unnamed: 1  Unnamed: 2\n0    Александр Соболев           6          16\n1       Эдуард Сперцян           6          16\n2        Квинси Промес           6          16\n3         Даниил Уткин           6          17\n4            Клаудиньо           5          14\n5        Арсен Захарян           5          16\n6       Иван Олейников           5          17\n7   Николай Комличенко           5          17\n8               Малком           5          17\n9    Никита Бурмистров           4           9\n10  Лазарь Ранджелович           4           9\n11     Брайан Мансилья           4          12",
      "text/html": "<div>\n<style scoped>\n    .dataframe tbody tr th:only-of-type {\n        vertical-align: middle;\n    }\n\n    .dataframe tbody tr th {\n        vertical-align: top;\n    }\n\n    .dataframe thead th {\n        text-align: right;\n    }\n</style>\n<table border=\"1\" class=\"dataframe\">\n  <thead>\n    <tr style=\"text-align: right;\">\n      <th></th>\n      <th>Ассистенты</th>\n      <th>Unnamed: 1</th>\n      <th>Unnamed: 2</th>\n    </tr>\n  </thead>\n  <tbody>\n    <tr>\n      <th>0</th>\n      <td>Александр Соболев</td>\n      <td>6</td>\n      <td>16</td>\n    </tr>\n    <tr>\n      <th>1</th>\n      <td>Эдуард Сперцян</td>\n      <td>6</td>\n      <td>16</td>\n    </tr>\n    <tr>\n      <th>2</th>\n      <td>Квинси Промес</td>\n      <td>6</td>\n      <td>16</td>\n    </tr>\n    <tr>\n      <th>3</th>\n      <td>Даниил Уткин</td>\n      <td>6</td>\n      <td>17</td>\n    </tr>\n    <tr>\n      <th>4</th>\n      <td>Клаудиньо</td>\n      <td>5</td>\n      <td>14</td>\n    </tr>\n    <tr>\n      <th>5</th>\n      <td>Арсен Захарян</td>\n      <td>5</td>\n      <td>16</td>\n    </tr>\n    <tr>\n      <th>6</th>\n      <td>Иван Олейников</td>\n      <td>5</td>\n      <td>17</td>\n    </tr>\n    <tr>\n      <th>7</th>\n      <td>Николай Комличенко</td>\n      <td>5</td>\n      <td>17</td>\n    </tr>\n    <tr>\n      <th>8</th>\n      <td>Малком</td>\n      <td>5</td>\n      <td>17</td>\n    </tr>\n    <tr>\n      <th>9</th>\n      <td>Никита Бурмистров</td>\n      <td>4</td>\n      <td>9</td>\n    </tr>\n    <tr>\n      <th>10</th>\n      <td>Лазарь Ранджелович</td>\n      <td>4</td>\n      <td>9</td>\n    </tr>\n    <tr>\n      <th>11</th>\n      <td>Брайан Мансилья</td>\n      <td>4</td>\n      <td>12</td>\n    </tr>\n  </tbody>\n</table>\n</div>"
     },
     "metadata": {},
     "output_type": "display_data"
    }
   ],
   "source": [
    "display(tables[2])"
   ],
   "metadata": {
    "collapsed": false
   }
  },
  {
   "cell_type": "markdown",
   "source": [
    "# Штрафники:"
   ],
   "metadata": {
    "collapsed": false
   }
  },
  {
   "cell_type": "code",
   "execution_count": 5,
   "outputs": [
    {
     "data": {
      "text/plain": "            Штрафники  Unnamed: 1  Unnamed: 2  Unnamed: 3  Unnamed: 4  \\\n0   Роберто Фернандес           9           3         2.0         NaN   \n1        Мамаду Майга           9           6         1.0         NaN   \n2          Антон Швец           7           7         NaN         NaN   \n3     Андрей Егорычев           6           3         1.0         NaN   \n4                Кайо           6           3         1.0         NaN   \n5      Мингиян Бевеев           6           3         1.0         NaN   \n6      Артём Самсонов           6           6         NaN         NaN   \n7       Олег Дмитриев           6           3         NaN         1.0   \n8    Тимур Сулейманов           6           3         1.0         NaN   \n9   Александр Соболев           6           6         NaN         NaN   \n10      Арсен Захарян           6           3         1.0         NaN   \n11    Дмитрий Баринов           6           3         NaN         1.0   \n\n    Unnamed: 5  \n0           11  \n1           14  \n2           16  \n3            9  \n4           11  \n5           14  \n6           15  \n7           16  \n8           16  \n9           16  \n10          16  \n11          16  ",
      "text/html": "<div>\n<style scoped>\n    .dataframe tbody tr th:only-of-type {\n        vertical-align: middle;\n    }\n\n    .dataframe tbody tr th {\n        vertical-align: top;\n    }\n\n    .dataframe thead th {\n        text-align: right;\n    }\n</style>\n<table border=\"1\" class=\"dataframe\">\n  <thead>\n    <tr style=\"text-align: right;\">\n      <th></th>\n      <th>Штрафники</th>\n      <th>Unnamed: 1</th>\n      <th>Unnamed: 2</th>\n      <th>Unnamed: 3</th>\n      <th>Unnamed: 4</th>\n      <th>Unnamed: 5</th>\n    </tr>\n  </thead>\n  <tbody>\n    <tr>\n      <th>0</th>\n      <td>Роберто Фернандес</td>\n      <td>9</td>\n      <td>3</td>\n      <td>2.0</td>\n      <td>NaN</td>\n      <td>11</td>\n    </tr>\n    <tr>\n      <th>1</th>\n      <td>Мамаду Майга</td>\n      <td>9</td>\n      <td>6</td>\n      <td>1.0</td>\n      <td>NaN</td>\n      <td>14</td>\n    </tr>\n    <tr>\n      <th>2</th>\n      <td>Антон Швец</td>\n      <td>7</td>\n      <td>7</td>\n      <td>NaN</td>\n      <td>NaN</td>\n      <td>16</td>\n    </tr>\n    <tr>\n      <th>3</th>\n      <td>Андрей Егорычев</td>\n      <td>6</td>\n      <td>3</td>\n      <td>1.0</td>\n      <td>NaN</td>\n      <td>9</td>\n    </tr>\n    <tr>\n      <th>4</th>\n      <td>Кайо</td>\n      <td>6</td>\n      <td>3</td>\n      <td>1.0</td>\n      <td>NaN</td>\n      <td>11</td>\n    </tr>\n    <tr>\n      <th>5</th>\n      <td>Мингиян Бевеев</td>\n      <td>6</td>\n      <td>3</td>\n      <td>1.0</td>\n      <td>NaN</td>\n      <td>14</td>\n    </tr>\n    <tr>\n      <th>6</th>\n      <td>Артём Самсонов</td>\n      <td>6</td>\n      <td>6</td>\n      <td>NaN</td>\n      <td>NaN</td>\n      <td>15</td>\n    </tr>\n    <tr>\n      <th>7</th>\n      <td>Олег Дмитриев</td>\n      <td>6</td>\n      <td>3</td>\n      <td>NaN</td>\n      <td>1.0</td>\n      <td>16</td>\n    </tr>\n    <tr>\n      <th>8</th>\n      <td>Тимур Сулейманов</td>\n      <td>6</td>\n      <td>3</td>\n      <td>1.0</td>\n      <td>NaN</td>\n      <td>16</td>\n    </tr>\n    <tr>\n      <th>9</th>\n      <td>Александр Соболев</td>\n      <td>6</td>\n      <td>6</td>\n      <td>NaN</td>\n      <td>NaN</td>\n      <td>16</td>\n    </tr>\n    <tr>\n      <th>10</th>\n      <td>Арсен Захарян</td>\n      <td>6</td>\n      <td>3</td>\n      <td>1.0</td>\n      <td>NaN</td>\n      <td>16</td>\n    </tr>\n    <tr>\n      <th>11</th>\n      <td>Дмитрий Баринов</td>\n      <td>6</td>\n      <td>3</td>\n      <td>NaN</td>\n      <td>1.0</td>\n      <td>16</td>\n    </tr>\n  </tbody>\n</table>\n</div>"
     },
     "metadata": {},
     "output_type": "display_data"
    }
   ],
   "source": [
    "display(tables[3])"
   ],
   "metadata": {
    "collapsed": false
   }
  },
  {
   "cell_type": "markdown",
   "source": [
    "# 2. Собрать из этих данных датафрейм."
   ],
   "metadata": {
    "collapsed": false
   }
  },
  {
   "cell_type": "markdown",
   "source": [
    "Парсинг команд для каждой из таблиц Штрафники, Бомбардиры и Ассистенты"
   ],
   "metadata": {
    "collapsed": false
   }
  },
  {
   "cell_type": "code",
   "source": [
    "response = requests.get(url)\n",
    "soup = bs4.BeautifulSoup(response.text, 'html.parser')\n",
    "player_tables = soup.find_all('table', class_='comp_table_v2')\n",
    "\n",
    "scorers = []\n",
    "assistants = []\n",
    "penalized_players = []\n",
    "lists = (scorers, assistants, penalized_players)\n",
    "for table, lst in zip(player_tables, lists):\n",
    "    teams = table.find_all('img', class_='i16 has-tip')\n",
    "    for team in teams:\n",
    "        lst.append(team.get('title'))\n",
    "\n",
    "titles = ('Бомбардиры:', 'Ассистенты:', 'Штрафники:')\n",
    "for title, lst in zip(titles, lists):\n",
    "    print(title, lst)"
   ],
   "metadata": {
    "colab": {
     "base_uri": "https://localhost:8080/"
    },
    "id": "509UgyjrEd6R",
    "outputId": "1d2d7dd4-6f00-4c87-ea65-2af75dfeff53"
   },
   "execution_count": 6,
   "outputs": [
    {
     "name": "stdout",
     "output_type": "stream",
     "text": [
      "Бомбардиры: ['Оренбург', 'Спартак', 'Зенит', 'ПФК Сочи', 'ЦСКА Москва', 'Краснодар', 'Ростов', 'Ростов', 'Ахмат', 'Пари Нижний Новгород', 'Динамо Москва', 'Спартак']\n",
      "Ассистенты: ['Спартак', 'Краснодар', 'Спартак', 'Ростов', 'Зенит', 'Динамо Москва', 'Ахмат', 'Ростов', 'Зенит', 'ПФК Сочи', 'Урал', 'Оренбург']\n",
      "Штрафники: ['Динамо Москва', 'Пари Нижний Новгород', 'Ахмат', 'Урал', 'Краснодар', 'Урал', 'Торпедо Москва', 'Факел', 'Пари Нижний Новгород', 'Спартак', 'Динамо Москва', 'Локомотив Москва']\n"
     ]
    }
   ]
  },
  {
   "cell_type": "code",
   "execution_count": 7,
   "outputs": [
    {
     "data": {
      "text/plain": "                   ФИО               Команда  Голы  Пенальти  Матчи\n0     Владимир Сычевой              Оренбург    14         2     15\n1        Квинси Промес               Спартак    14         2     16\n2               Малком                 Зенит    12         0     17\n3       Кристиан Нобоа              ПФК Сочи    10         6     15\n4          Федор Чалов           ЦСКА Москва    10         2     17\n5       Эдуард Сперцян             Краснодар     9         3     16\n6        Дмитрий Полоз                Ростов     8         6     16\n7   Николай Комличенко                Ростов     8         1     17\n8       Мохамед Конате                 Ахмат     7         0     16\n9     Тимур Сулейманов  Пари Нижний Новгород     7         1     16\n10        Фёдор Смолов         Динамо Москва     7         3     15\n11   Александр Соболев               Спартак     7         0     16",
      "text/html": "<div>\n<style scoped>\n    .dataframe tbody tr th:only-of-type {\n        vertical-align: middle;\n    }\n\n    .dataframe tbody tr th {\n        vertical-align: top;\n    }\n\n    .dataframe thead th {\n        text-align: right;\n    }\n</style>\n<table border=\"1\" class=\"dataframe\">\n  <thead>\n    <tr style=\"text-align: right;\">\n      <th></th>\n      <th>ФИО</th>\n      <th>Команда</th>\n      <th>Голы</th>\n      <th>Пенальти</th>\n      <th>Матчи</th>\n    </tr>\n  </thead>\n  <tbody>\n    <tr>\n      <th>0</th>\n      <td>Владимир Сычевой</td>\n      <td>Оренбург</td>\n      <td>14</td>\n      <td>2</td>\n      <td>15</td>\n    </tr>\n    <tr>\n      <th>1</th>\n      <td>Квинси Промес</td>\n      <td>Спартак</td>\n      <td>14</td>\n      <td>2</td>\n      <td>16</td>\n    </tr>\n    <tr>\n      <th>2</th>\n      <td>Малком</td>\n      <td>Зенит</td>\n      <td>12</td>\n      <td>0</td>\n      <td>17</td>\n    </tr>\n    <tr>\n      <th>3</th>\n      <td>Кристиан Нобоа</td>\n      <td>ПФК Сочи</td>\n      <td>10</td>\n      <td>6</td>\n      <td>15</td>\n    </tr>\n    <tr>\n      <th>4</th>\n      <td>Федор Чалов</td>\n      <td>ЦСКА Москва</td>\n      <td>10</td>\n      <td>2</td>\n      <td>17</td>\n    </tr>\n    <tr>\n      <th>5</th>\n      <td>Эдуард Сперцян</td>\n      <td>Краснодар</td>\n      <td>9</td>\n      <td>3</td>\n      <td>16</td>\n    </tr>\n    <tr>\n      <th>6</th>\n      <td>Дмитрий Полоз</td>\n      <td>Ростов</td>\n      <td>8</td>\n      <td>6</td>\n      <td>16</td>\n    </tr>\n    <tr>\n      <th>7</th>\n      <td>Николай Комличенко</td>\n      <td>Ростов</td>\n      <td>8</td>\n      <td>1</td>\n      <td>17</td>\n    </tr>\n    <tr>\n      <th>8</th>\n      <td>Мохамед Конате</td>\n      <td>Ахмат</td>\n      <td>7</td>\n      <td>0</td>\n      <td>16</td>\n    </tr>\n    <tr>\n      <th>9</th>\n      <td>Тимур Сулейманов</td>\n      <td>Пари Нижний Новгород</td>\n      <td>7</td>\n      <td>1</td>\n      <td>16</td>\n    </tr>\n    <tr>\n      <th>10</th>\n      <td>Фёдор Смолов</td>\n      <td>Динамо Москва</td>\n      <td>7</td>\n      <td>3</td>\n      <td>15</td>\n    </tr>\n    <tr>\n      <th>11</th>\n      <td>Александр Соболев</td>\n      <td>Спартак</td>\n      <td>7</td>\n      <td>0</td>\n      <td>16</td>\n    </tr>\n  </tbody>\n</table>\n</div>"
     },
     "metadata": {},
     "output_type": "display_data"
    }
   ],
   "source": [
    "table_bomb = tables[1]\n",
    "table_bomb.rename(columns = {'Бомбардиры':'ФИО', 'Unnamed: 1':'Голы','Unnamed: 2':'Пенальти', 'Unnamed: 3':'Матчи'}, inplace=True)\n",
    "table_bomb.insert(1, \"Команда\", scorers)\n",
    "table_bomb = table_bomb.fillna(0)\n",
    "table_bomb['Пенальти'] = table_bomb['Пенальти'].astype('int')\n",
    "display(table_bomb)"
   ],
   "metadata": {
    "collapsed": false
   }
  },
  {
   "cell_type": "code",
   "execution_count": 8,
   "outputs": [
    {
     "data": {
      "text/plain": "                   ФИО        Команда  Пасы  Матчи\n0    Александр Соболев        Спартак     6     16\n1       Эдуард Сперцян      Краснодар     6     16\n2        Квинси Промес        Спартак     6     16\n3         Даниил Уткин         Ростов     6     17\n4            Клаудиньо          Зенит     5     14\n5        Арсен Захарян  Динамо Москва     5     16\n6       Иван Олейников          Ахмат     5     17\n7   Николай Комличенко         Ростов     5     17\n8               Малком          Зенит     5     17\n9    Никита Бурмистров       ПФК Сочи     4      9\n10  Лазарь Ранджелович           Урал     4      9\n11     Брайан Мансилья       Оренбург     4     12",
      "text/html": "<div>\n<style scoped>\n    .dataframe tbody tr th:only-of-type {\n        vertical-align: middle;\n    }\n\n    .dataframe tbody tr th {\n        vertical-align: top;\n    }\n\n    .dataframe thead th {\n        text-align: right;\n    }\n</style>\n<table border=\"1\" class=\"dataframe\">\n  <thead>\n    <tr style=\"text-align: right;\">\n      <th></th>\n      <th>ФИО</th>\n      <th>Команда</th>\n      <th>Пасы</th>\n      <th>Матчи</th>\n    </tr>\n  </thead>\n  <tbody>\n    <tr>\n      <th>0</th>\n      <td>Александр Соболев</td>\n      <td>Спартак</td>\n      <td>6</td>\n      <td>16</td>\n    </tr>\n    <tr>\n      <th>1</th>\n      <td>Эдуард Сперцян</td>\n      <td>Краснодар</td>\n      <td>6</td>\n      <td>16</td>\n    </tr>\n    <tr>\n      <th>2</th>\n      <td>Квинси Промес</td>\n      <td>Спартак</td>\n      <td>6</td>\n      <td>16</td>\n    </tr>\n    <tr>\n      <th>3</th>\n      <td>Даниил Уткин</td>\n      <td>Ростов</td>\n      <td>6</td>\n      <td>17</td>\n    </tr>\n    <tr>\n      <th>4</th>\n      <td>Клаудиньо</td>\n      <td>Зенит</td>\n      <td>5</td>\n      <td>14</td>\n    </tr>\n    <tr>\n      <th>5</th>\n      <td>Арсен Захарян</td>\n      <td>Динамо Москва</td>\n      <td>5</td>\n      <td>16</td>\n    </tr>\n    <tr>\n      <th>6</th>\n      <td>Иван Олейников</td>\n      <td>Ахмат</td>\n      <td>5</td>\n      <td>17</td>\n    </tr>\n    <tr>\n      <th>7</th>\n      <td>Николай Комличенко</td>\n      <td>Ростов</td>\n      <td>5</td>\n      <td>17</td>\n    </tr>\n    <tr>\n      <th>8</th>\n      <td>Малком</td>\n      <td>Зенит</td>\n      <td>5</td>\n      <td>17</td>\n    </tr>\n    <tr>\n      <th>9</th>\n      <td>Никита Бурмистров</td>\n      <td>ПФК Сочи</td>\n      <td>4</td>\n      <td>9</td>\n    </tr>\n    <tr>\n      <th>10</th>\n      <td>Лазарь Ранджелович</td>\n      <td>Урал</td>\n      <td>4</td>\n      <td>9</td>\n    </tr>\n    <tr>\n      <th>11</th>\n      <td>Брайан Мансилья</td>\n      <td>Оренбург</td>\n      <td>4</td>\n      <td>12</td>\n    </tr>\n  </tbody>\n</table>\n</div>"
     },
     "metadata": {},
     "output_type": "display_data"
    }
   ],
   "source": [
    "table_assist = tables[2]\n",
    "table_assist.rename(columns = {'Ассистенты':'ФИО', 'Unnamed: 1':'Пасы','Unnamed: 2':'Матчи'}, inplace=True)\n",
    "table_assist.insert(1, \"Команда\", assistants)\n",
    "\n",
    "display(table_assist)"
   ],
   "metadata": {
    "collapsed": false
   }
  },
  {
   "cell_type": "code",
   "execution_count": 9,
   "outputs": [
    {
     "data": {
      "text/plain": "                  ФИО               Команда  Штрафные  Желтые карточки  2ЖК  \\\n0   Роберто Фернандес         Динамо Москва         9                3    2   \n1        Мамаду Майга  Пари Нижний Новгород         9                6    1   \n2          Антон Швец                 Ахмат         7                7    0   \n3     Андрей Егорычев                  Урал         6                3    1   \n4                Кайо             Краснодар         6                3    1   \n5      Мингиян Бевеев                  Урал         6                3    1   \n6      Артём Самсонов        Торпедо Москва         6                6    0   \n7       Олег Дмитриев                 Факел         6                3    0   \n8    Тимур Сулейманов  Пари Нижний Новгород         6                3    1   \n9   Александр Соболев               Спартак         6                6    0   \n10      Арсен Захарян         Динамо Москва         6                3    1   \n11    Дмитрий Баринов      Локомотив Москва         6                3    0   \n\n    Красные карточки  Матчи  \n0                  0     11  \n1                  0     14  \n2                  0     16  \n3                  0      9  \n4                  0     11  \n5                  0     14  \n6                  0     15  \n7                  1     16  \n8                  0     16  \n9                  0     16  \n10                 0     16  \n11                 1     16  ",
      "text/html": "<div>\n<style scoped>\n    .dataframe tbody tr th:only-of-type {\n        vertical-align: middle;\n    }\n\n    .dataframe tbody tr th {\n        vertical-align: top;\n    }\n\n    .dataframe thead th {\n        text-align: right;\n    }\n</style>\n<table border=\"1\" class=\"dataframe\">\n  <thead>\n    <tr style=\"text-align: right;\">\n      <th></th>\n      <th>ФИО</th>\n      <th>Команда</th>\n      <th>Штрафные</th>\n      <th>Желтые карточки</th>\n      <th>2ЖК</th>\n      <th>Красные карточки</th>\n      <th>Матчи</th>\n    </tr>\n  </thead>\n  <tbody>\n    <tr>\n      <th>0</th>\n      <td>Роберто Фернандес</td>\n      <td>Динамо Москва</td>\n      <td>9</td>\n      <td>3</td>\n      <td>2</td>\n      <td>0</td>\n      <td>11</td>\n    </tr>\n    <tr>\n      <th>1</th>\n      <td>Мамаду Майга</td>\n      <td>Пари Нижний Новгород</td>\n      <td>9</td>\n      <td>6</td>\n      <td>1</td>\n      <td>0</td>\n      <td>14</td>\n    </tr>\n    <tr>\n      <th>2</th>\n      <td>Антон Швец</td>\n      <td>Ахмат</td>\n      <td>7</td>\n      <td>7</td>\n      <td>0</td>\n      <td>0</td>\n      <td>16</td>\n    </tr>\n    <tr>\n      <th>3</th>\n      <td>Андрей Егорычев</td>\n      <td>Урал</td>\n      <td>6</td>\n      <td>3</td>\n      <td>1</td>\n      <td>0</td>\n      <td>9</td>\n    </tr>\n    <tr>\n      <th>4</th>\n      <td>Кайо</td>\n      <td>Краснодар</td>\n      <td>6</td>\n      <td>3</td>\n      <td>1</td>\n      <td>0</td>\n      <td>11</td>\n    </tr>\n    <tr>\n      <th>5</th>\n      <td>Мингиян Бевеев</td>\n      <td>Урал</td>\n      <td>6</td>\n      <td>3</td>\n      <td>1</td>\n      <td>0</td>\n      <td>14</td>\n    </tr>\n    <tr>\n      <th>6</th>\n      <td>Артём Самсонов</td>\n      <td>Торпедо Москва</td>\n      <td>6</td>\n      <td>6</td>\n      <td>0</td>\n      <td>0</td>\n      <td>15</td>\n    </tr>\n    <tr>\n      <th>7</th>\n      <td>Олег Дмитриев</td>\n      <td>Факел</td>\n      <td>6</td>\n      <td>3</td>\n      <td>0</td>\n      <td>1</td>\n      <td>16</td>\n    </tr>\n    <tr>\n      <th>8</th>\n      <td>Тимур Сулейманов</td>\n      <td>Пари Нижний Новгород</td>\n      <td>6</td>\n      <td>3</td>\n      <td>1</td>\n      <td>0</td>\n      <td>16</td>\n    </tr>\n    <tr>\n      <th>9</th>\n      <td>Александр Соболев</td>\n      <td>Спартак</td>\n      <td>6</td>\n      <td>6</td>\n      <td>0</td>\n      <td>0</td>\n      <td>16</td>\n    </tr>\n    <tr>\n      <th>10</th>\n      <td>Арсен Захарян</td>\n      <td>Динамо Москва</td>\n      <td>6</td>\n      <td>3</td>\n      <td>1</td>\n      <td>0</td>\n      <td>16</td>\n    </tr>\n    <tr>\n      <th>11</th>\n      <td>Дмитрий Баринов</td>\n      <td>Локомотив Москва</td>\n      <td>6</td>\n      <td>3</td>\n      <td>0</td>\n      <td>1</td>\n      <td>16</td>\n    </tr>\n  </tbody>\n</table>\n</div>"
     },
     "metadata": {},
     "output_type": "display_data"
    }
   ],
   "source": [
    "table_shtraf = tables[3]\n",
    "table_shtraf.rename(columns = {'Штрафники':'ФИО', 'Unnamed: 1':'Штрафные','Unnamed: 2':'Желтые карточки','Unnamed: 3':'2ЖК','Unnamed: 4':'Красные карточки','Unnamed: 5':'Матчи'}, inplace=True)\n",
    "table_shtraf.insert(1, \"Команда\", penalized_players)\n",
    "table_shtraf = table_shtraf.fillna(0)\n",
    "table_shtraf['2ЖК'] = table_shtraf['2ЖК'].astype('int')\n",
    "table_shtraf['Красные карточки'] = table_shtraf['Красные карточки'].astype('int')\n",
    "display(table_shtraf)"
   ],
   "metadata": {
    "collapsed": false
   }
  },
  {
   "cell_type": "markdown",
   "source": [
    "# 3 Получить по датафрейму следующую аналитику:"
   ],
   "metadata": {
    "collapsed": false
   }
  },
  {
   "cell_type": "markdown",
   "source": [
    "3.1 Первая тройка команд по числу забитых голов с выводом их числа."
   ],
   "metadata": {
    "collapsed": false
   }
  },
  {
   "cell_type": "code",
   "source": [
    "table_bomb.groupby([\"Команда\"])[\"Голы\"].sum().sort_values(ascending=False).head(3)"
   ],
   "metadata": {
    "colab": {
     "base_uri": "https://localhost:8080/",
     "height": 328
    },
    "id": "j-HIHGynPCfq",
    "outputId": "5b5c9225-0f23-4d2b-f343-7489cee70948"
   },
   "execution_count": 10,
   "outputs": [
    {
     "data": {
      "text/plain": "Команда\nСпартак     21\nРостов      16\nОренбург    14\nName: Голы, dtype: int64"
     },
     "execution_count": 10,
     "metadata": {},
     "output_type": "execute_result"
    }
   ]
  },
  {
   "cell_type": "markdown",
   "source": [
    "3.2 Первая тройка команд по числу желтых карточек."
   ],
   "metadata": {
    "collapsed": false
   }
  },
  {
   "cell_type": "code",
   "source": [
    "table_shtraf.groupby([\"Команда\"])[\"Желтые карточки\"].sum().sort_values(ascending=False).head(3)"
   ],
   "metadata": {
    "id": "-rVzQhjSQENI"
   },
   "execution_count": 11,
   "outputs": [
    {
     "data": {
      "text/plain": "Команда\nПари Нижний Новгород    9\nАхмат                   7\nДинамо Москва           6\nName: Желтые карточки, dtype: int64"
     },
     "execution_count": 11,
     "metadata": {},
     "output_type": "execute_result"
    }
   ]
  },
  {
   "cell_type": "markdown",
   "source": [
    "3.3 Доля пенальти по отношению к числу голов для каждой команды."
   ],
   "metadata": {
    "collapsed": false
   }
  },
  {
   "cell_type": "code",
   "source": [
    "count_penalti =table_bomb.groupby([\"Команда\"])[\"Пенальти\"].sum()\n",
    "count_gol = table_bomb.groupby([\"Команда\"])[\"Голы\"].sum()\n",
    "(count_penalti/count_gol)"
   ],
   "metadata": {
    "id": "SzSHzcFoQ1OF"
   },
   "execution_count": 12,
   "outputs": [
    {
     "data": {
      "text/plain": "Команда\nАхмат                   0.000000\nДинамо Москва           0.428571\nЗенит                   0.000000\nКраснодар               0.333333\nОренбург                0.142857\nПФК Сочи                0.600000\nПари Нижний Новгород    0.142857\nРостов                  0.437500\nСпартак                 0.095238\nЦСКА Москва             0.200000\ndtype: float64"
     },
     "execution_count": 12,
     "metadata": {},
     "output_type": "execute_result"
    }
   ]
  },
  {
   "cell_type": "markdown",
   "source": [
    "3.4 Список игроков, которые участвовали не во всех играх своей команды. Число игр команды определить по максимальному числу матчей ее игроков."
   ],
   "metadata": {
    "collapsed": false
   }
  },
  {
   "cell_type": "code",
   "source": [
    "join_table = table_bomb.append([table_assist,table_shtraf], sort=False)#соединил все таблицы\n",
    "\n",
    "count_plays_team = join_table.groupby(['Команда']).max(['Матчи']) #число игр команды\n",
    "gamers = []\n",
    "\n",
    "for num_row in range(len(join_table)):\n",
    "  player_name = join_table.iloc[num_row,0]\n",
    "  player_count_game = join_table.iloc[num_row,4]\n",
    "\n",
    "  player_team = join_table.iloc[num_row,1]\n",
    "\n",
    "  team_max_games = count_plays_team.loc[player_team]['Матчи']\n",
    "  if int(player_count_game) != int(team_max_games):\n",
    "    gamers.append(player_name+f\" сыграл {player_count_game} из {int(team_max_games)}\")\n",
    "pprint.pprint(gamers)"
   ],
   "metadata": {
    "id": "wWhsw3pWQngV"
   },
   "execution_count": 13,
   "outputs": [
    {
     "name": "stdout",
     "output_type": "stream",
     "text": [
      "['Дмитрий Полоз сыграл 16 из 17',\n",
      " 'Мохамед Конате сыграл 16 из 17',\n",
      " 'Фёдор Смолов сыграл 15 из 16',\n",
      " 'Клаудиньо сыграл 14 из 17',\n",
      " 'Никита Бурмистров сыграл 9 из 15',\n",
      " 'Лазарь Ранджелович сыграл 9 из 14',\n",
      " 'Брайан Мансилья сыграл 12 из 15',\n",
      " 'Роберто Фернандес сыграл 11 из 16',\n",
      " 'Мамаду Майга сыграл 14 из 16',\n",
      " 'Антон Швец сыграл 16 из 17',\n",
      " 'Андрей Егорычев сыграл 9 из 14',\n",
      " 'Кайо сыграл 11 из 16']\n"
     ]
    },
    {
     "name": "stderr",
     "output_type": "stream",
     "text": [
      "C:\\Users\\erik_\\AppData\\Local\\Temp\\ipykernel_10856\\2358773928.py:1: FutureWarning: The frame.append method is deprecated and will be removed from pandas in a future version. Use pandas.concat instead.\n",
      "  join_table = table_bomb.append([table_assist,table_shtraf], sort=False)#соединил все таблицы\n"
     ]
    }
   ]
  },
  {
   "cell_type": "markdown",
   "source": [
    "3.5 Корреляция числа голов с количеством очков команды. Очки взять из первой таб-лицы на странице по рейтингу команд."
   ],
   "metadata": {
    "collapsed": false
   }
  },
  {
   "cell_type": "code",
   "source": [
    "table_ochki = tables[0]\n",
    "\n",
    "table_ochki.rename(columns = {'Unnamed: 0':'Рейтинг', 'Unnamed: 1':'Команда','З':'Забито', 'О':'Очки'}, inplace=True)\n",
    "\n",
    "a = table_ochki.groupby([\"Команда\"])[[\"Забито\"]].sum()\n",
    "b = table_ochki.groupby([\"Команда\"])[[\"Очки\"]].sum()\n",
    "c = b.join(a)\n",
    "c = c.fillna(0)\n",
    "c = c.reset_index()\n",
    "c.corr()"
   ],
   "metadata": {
    "id": "Zx6JEpJ5R2lk"
   },
   "execution_count": 14,
   "outputs": [
    {
     "name": "stderr",
     "output_type": "stream",
     "text": [
      "C:\\Users\\erik_\\AppData\\Local\\Temp\\ipykernel_10856\\1975397723.py:10: FutureWarning: The default value of numeric_only in DataFrame.corr is deprecated. In a future version, it will default to False. Select only valid columns or specify the value of numeric_only to silence this warning.\n",
      "  c.corr()\n"
     ]
    },
    {
     "data": {
      "text/plain": "            Очки    Забито\nОчки    1.000000  0.947128\nЗабито  0.947128  1.000000",
      "text/html": "<div>\n<style scoped>\n    .dataframe tbody tr th:only-of-type {\n        vertical-align: middle;\n    }\n\n    .dataframe tbody tr th {\n        vertical-align: top;\n    }\n\n    .dataframe thead th {\n        text-align: right;\n    }\n</style>\n<table border=\"1\" class=\"dataframe\">\n  <thead>\n    <tr style=\"text-align: right;\">\n      <th></th>\n      <th>Очки</th>\n      <th>Забито</th>\n    </tr>\n  </thead>\n  <tbody>\n    <tr>\n      <th>Очки</th>\n      <td>1.000000</td>\n      <td>0.947128</td>\n    </tr>\n    <tr>\n      <th>Забито</th>\n      <td>0.947128</td>\n      <td>1.000000</td>\n    </tr>\n  </tbody>\n</table>\n</div>"
     },
     "execution_count": 14,
     "metadata": {},
     "output_type": "execute_result"
    }
   ]
  }
 ]
}
